{
  "nbformat": 4,
  "nbformat_minor": 0,
  "metadata": {
    "colab": {
      "provenance": []
    },
    "kernelspec": {
      "name": "python3",
      "display_name": "Python 3"
    },
    "language_info": {
      "name": "python"
    }
  },
  "cells": [
    {
      "cell_type": "code",
      "execution_count": null,
      "metadata": {
        "id": "HjvQ5clh3R_X"
      },
      "outputs": [],
      "source": [
        "import pandas as pd\n",
        "import numpy as np\n",
        "from sklearn.model_selection import train_test_split\n",
        "from sklearn.naive_bayes import GaussianNB, MultinomialNB, BernoulliNB\n",
        "import seaborn as sns\n",
        "import matplotlib.pyplot as plt\n",
        "from sklearn.metrics import confusion_matrix, accuracy_score, precision_score, recall_score, f1_score,classification_report"
      ]
    },
    {
      "cell_type": "code",
      "source": [
        "data = pd.read_csv(\"https://archive.ics.uci.edu/ml/machine-learning-databases/spambase/spambase.data\",header=None)"
      ],
      "metadata": {
        "id": "fybfrsWB39dt"
      },
      "execution_count": null,
      "outputs": []
    },
    {
      "cell_type": "code",
      "source": [
        "data"
      ],
      "metadata": {
        "colab": {
          "base_uri": "https://localhost:8080/",
          "height": 424
        },
        "id": "OfYAWX5J4CSr",
        "outputId": "d231ae45-610f-4c6e-90fd-cf1344a7eb3a"
      },
      "execution_count": null,
      "outputs": [
        {
          "output_type": "execute_result",
          "data": {
            "text/plain": [
              "        0     1     2    3     4     5     6     7     8     9   ...     48  \\\n",
              "0     0.00  0.64  0.64  0.0  0.32  0.00  0.00  0.00  0.00  0.00  ...  0.000   \n",
              "1     0.21  0.28  0.50  0.0  0.14  0.28  0.21  0.07  0.00  0.94  ...  0.000   \n",
              "2     0.06  0.00  0.71  0.0  1.23  0.19  0.19  0.12  0.64  0.25  ...  0.010   \n",
              "3     0.00  0.00  0.00  0.0  0.63  0.00  0.31  0.63  0.31  0.63  ...  0.000   \n",
              "4     0.00  0.00  0.00  0.0  0.63  0.00  0.31  0.63  0.31  0.63  ...  0.000   \n",
              "...    ...   ...   ...  ...   ...   ...   ...   ...   ...   ...  ...    ...   \n",
              "4596  0.31  0.00  0.62  0.0  0.00  0.31  0.00  0.00  0.00  0.00  ...  0.000   \n",
              "4597  0.00  0.00  0.00  0.0  0.00  0.00  0.00  0.00  0.00  0.00  ...  0.000   \n",
              "4598  0.30  0.00  0.30  0.0  0.00  0.00  0.00  0.00  0.00  0.00  ...  0.102   \n",
              "4599  0.96  0.00  0.00  0.0  0.32  0.00  0.00  0.00  0.00  0.00  ...  0.000   \n",
              "4600  0.00  0.00  0.65  0.0  0.00  0.00  0.00  0.00  0.00  0.00  ...  0.000   \n",
              "\n",
              "         49   50     51     52     53     54   55    56  57  \n",
              "0     0.000  0.0  0.778  0.000  0.000  3.756   61   278   1  \n",
              "1     0.132  0.0  0.372  0.180  0.048  5.114  101  1028   1  \n",
              "2     0.143  0.0  0.276  0.184  0.010  9.821  485  2259   1  \n",
              "3     0.137  0.0  0.137  0.000  0.000  3.537   40   191   1  \n",
              "4     0.135  0.0  0.135  0.000  0.000  3.537   40   191   1  \n",
              "...     ...  ...    ...    ...    ...    ...  ...   ...  ..  \n",
              "4596  0.232  0.0  0.000  0.000  0.000  1.142    3    88   0  \n",
              "4597  0.000  0.0  0.353  0.000  0.000  1.555    4    14   0  \n",
              "4598  0.718  0.0  0.000  0.000  0.000  1.404    6   118   0  \n",
              "4599  0.057  0.0  0.000  0.000  0.000  1.147    5    78   0  \n",
              "4600  0.000  0.0  0.125  0.000  0.000  1.250    5    40   0  \n",
              "\n",
              "[4601 rows x 58 columns]"
            ],
            "text/html": [
              "\n",
              "  <div id=\"df-7c869d0b-6e05-4a27-ad44-ca4aa9b4d527\">\n",
              "    <div class=\"colab-df-container\">\n",
              "      <div>\n",
              "<style scoped>\n",
              "    .dataframe tbody tr th:only-of-type {\n",
              "        vertical-align: middle;\n",
              "    }\n",
              "\n",
              "    .dataframe tbody tr th {\n",
              "        vertical-align: top;\n",
              "    }\n",
              "\n",
              "    .dataframe thead th {\n",
              "        text-align: right;\n",
              "    }\n",
              "</style>\n",
              "<table border=\"1\" class=\"dataframe\">\n",
              "  <thead>\n",
              "    <tr style=\"text-align: right;\">\n",
              "      <th></th>\n",
              "      <th>0</th>\n",
              "      <th>1</th>\n",
              "      <th>2</th>\n",
              "      <th>3</th>\n",
              "      <th>4</th>\n",
              "      <th>5</th>\n",
              "      <th>6</th>\n",
              "      <th>7</th>\n",
              "      <th>8</th>\n",
              "      <th>9</th>\n",
              "      <th>...</th>\n",
              "      <th>48</th>\n",
              "      <th>49</th>\n",
              "      <th>50</th>\n",
              "      <th>51</th>\n",
              "      <th>52</th>\n",
              "      <th>53</th>\n",
              "      <th>54</th>\n",
              "      <th>55</th>\n",
              "      <th>56</th>\n",
              "      <th>57</th>\n",
              "    </tr>\n",
              "  </thead>\n",
              "  <tbody>\n",
              "    <tr>\n",
              "      <th>0</th>\n",
              "      <td>0.00</td>\n",
              "      <td>0.64</td>\n",
              "      <td>0.64</td>\n",
              "      <td>0.0</td>\n",
              "      <td>0.32</td>\n",
              "      <td>0.00</td>\n",
              "      <td>0.00</td>\n",
              "      <td>0.00</td>\n",
              "      <td>0.00</td>\n",
              "      <td>0.00</td>\n",
              "      <td>...</td>\n",
              "      <td>0.000</td>\n",
              "      <td>0.000</td>\n",
              "      <td>0.0</td>\n",
              "      <td>0.778</td>\n",
              "      <td>0.000</td>\n",
              "      <td>0.000</td>\n",
              "      <td>3.756</td>\n",
              "      <td>61</td>\n",
              "      <td>278</td>\n",
              "      <td>1</td>\n",
              "    </tr>\n",
              "    <tr>\n",
              "      <th>1</th>\n",
              "      <td>0.21</td>\n",
              "      <td>0.28</td>\n",
              "      <td>0.50</td>\n",
              "      <td>0.0</td>\n",
              "      <td>0.14</td>\n",
              "      <td>0.28</td>\n",
              "      <td>0.21</td>\n",
              "      <td>0.07</td>\n",
              "      <td>0.00</td>\n",
              "      <td>0.94</td>\n",
              "      <td>...</td>\n",
              "      <td>0.000</td>\n",
              "      <td>0.132</td>\n",
              "      <td>0.0</td>\n",
              "      <td>0.372</td>\n",
              "      <td>0.180</td>\n",
              "      <td>0.048</td>\n",
              "      <td>5.114</td>\n",
              "      <td>101</td>\n",
              "      <td>1028</td>\n",
              "      <td>1</td>\n",
              "    </tr>\n",
              "    <tr>\n",
              "      <th>2</th>\n",
              "      <td>0.06</td>\n",
              "      <td>0.00</td>\n",
              "      <td>0.71</td>\n",
              "      <td>0.0</td>\n",
              "      <td>1.23</td>\n",
              "      <td>0.19</td>\n",
              "      <td>0.19</td>\n",
              "      <td>0.12</td>\n",
              "      <td>0.64</td>\n",
              "      <td>0.25</td>\n",
              "      <td>...</td>\n",
              "      <td>0.010</td>\n",
              "      <td>0.143</td>\n",
              "      <td>0.0</td>\n",
              "      <td>0.276</td>\n",
              "      <td>0.184</td>\n",
              "      <td>0.010</td>\n",
              "      <td>9.821</td>\n",
              "      <td>485</td>\n",
              "      <td>2259</td>\n",
              "      <td>1</td>\n",
              "    </tr>\n",
              "    <tr>\n",
              "      <th>3</th>\n",
              "      <td>0.00</td>\n",
              "      <td>0.00</td>\n",
              "      <td>0.00</td>\n",
              "      <td>0.0</td>\n",
              "      <td>0.63</td>\n",
              "      <td>0.00</td>\n",
              "      <td>0.31</td>\n",
              "      <td>0.63</td>\n",
              "      <td>0.31</td>\n",
              "      <td>0.63</td>\n",
              "      <td>...</td>\n",
              "      <td>0.000</td>\n",
              "      <td>0.137</td>\n",
              "      <td>0.0</td>\n",
              "      <td>0.137</td>\n",
              "      <td>0.000</td>\n",
              "      <td>0.000</td>\n",
              "      <td>3.537</td>\n",
              "      <td>40</td>\n",
              "      <td>191</td>\n",
              "      <td>1</td>\n",
              "    </tr>\n",
              "    <tr>\n",
              "      <th>4</th>\n",
              "      <td>0.00</td>\n",
              "      <td>0.00</td>\n",
              "      <td>0.00</td>\n",
              "      <td>0.0</td>\n",
              "      <td>0.63</td>\n",
              "      <td>0.00</td>\n",
              "      <td>0.31</td>\n",
              "      <td>0.63</td>\n",
              "      <td>0.31</td>\n",
              "      <td>0.63</td>\n",
              "      <td>...</td>\n",
              "      <td>0.000</td>\n",
              "      <td>0.135</td>\n",
              "      <td>0.0</td>\n",
              "      <td>0.135</td>\n",
              "      <td>0.000</td>\n",
              "      <td>0.000</td>\n",
              "      <td>3.537</td>\n",
              "      <td>40</td>\n",
              "      <td>191</td>\n",
              "      <td>1</td>\n",
              "    </tr>\n",
              "    <tr>\n",
              "      <th>...</th>\n",
              "      <td>...</td>\n",
              "      <td>...</td>\n",
              "      <td>...</td>\n",
              "      <td>...</td>\n",
              "      <td>...</td>\n",
              "      <td>...</td>\n",
              "      <td>...</td>\n",
              "      <td>...</td>\n",
              "      <td>...</td>\n",
              "      <td>...</td>\n",
              "      <td>...</td>\n",
              "      <td>...</td>\n",
              "      <td>...</td>\n",
              "      <td>...</td>\n",
              "      <td>...</td>\n",
              "      <td>...</td>\n",
              "      <td>...</td>\n",
              "      <td>...</td>\n",
              "      <td>...</td>\n",
              "      <td>...</td>\n",
              "      <td>...</td>\n",
              "    </tr>\n",
              "    <tr>\n",
              "      <th>4596</th>\n",
              "      <td>0.31</td>\n",
              "      <td>0.00</td>\n",
              "      <td>0.62</td>\n",
              "      <td>0.0</td>\n",
              "      <td>0.00</td>\n",
              "      <td>0.31</td>\n",
              "      <td>0.00</td>\n",
              "      <td>0.00</td>\n",
              "      <td>0.00</td>\n",
              "      <td>0.00</td>\n",
              "      <td>...</td>\n",
              "      <td>0.000</td>\n",
              "      <td>0.232</td>\n",
              "      <td>0.0</td>\n",
              "      <td>0.000</td>\n",
              "      <td>0.000</td>\n",
              "      <td>0.000</td>\n",
              "      <td>1.142</td>\n",
              "      <td>3</td>\n",
              "      <td>88</td>\n",
              "      <td>0</td>\n",
              "    </tr>\n",
              "    <tr>\n",
              "      <th>4597</th>\n",
              "      <td>0.00</td>\n",
              "      <td>0.00</td>\n",
              "      <td>0.00</td>\n",
              "      <td>0.0</td>\n",
              "      <td>0.00</td>\n",
              "      <td>0.00</td>\n",
              "      <td>0.00</td>\n",
              "      <td>0.00</td>\n",
              "      <td>0.00</td>\n",
              "      <td>0.00</td>\n",
              "      <td>...</td>\n",
              "      <td>0.000</td>\n",
              "      <td>0.000</td>\n",
              "      <td>0.0</td>\n",
              "      <td>0.353</td>\n",
              "      <td>0.000</td>\n",
              "      <td>0.000</td>\n",
              "      <td>1.555</td>\n",
              "      <td>4</td>\n",
              "      <td>14</td>\n",
              "      <td>0</td>\n",
              "    </tr>\n",
              "    <tr>\n",
              "      <th>4598</th>\n",
              "      <td>0.30</td>\n",
              "      <td>0.00</td>\n",
              "      <td>0.30</td>\n",
              "      <td>0.0</td>\n",
              "      <td>0.00</td>\n",
              "      <td>0.00</td>\n",
              "      <td>0.00</td>\n",
              "      <td>0.00</td>\n",
              "      <td>0.00</td>\n",
              "      <td>0.00</td>\n",
              "      <td>...</td>\n",
              "      <td>0.102</td>\n",
              "      <td>0.718</td>\n",
              "      <td>0.0</td>\n",
              "      <td>0.000</td>\n",
              "      <td>0.000</td>\n",
              "      <td>0.000</td>\n",
              "      <td>1.404</td>\n",
              "      <td>6</td>\n",
              "      <td>118</td>\n",
              "      <td>0</td>\n",
              "    </tr>\n",
              "    <tr>\n",
              "      <th>4599</th>\n",
              "      <td>0.96</td>\n",
              "      <td>0.00</td>\n",
              "      <td>0.00</td>\n",
              "      <td>0.0</td>\n",
              "      <td>0.32</td>\n",
              "      <td>0.00</td>\n",
              "      <td>0.00</td>\n",
              "      <td>0.00</td>\n",
              "      <td>0.00</td>\n",
              "      <td>0.00</td>\n",
              "      <td>...</td>\n",
              "      <td>0.000</td>\n",
              "      <td>0.057</td>\n",
              "      <td>0.0</td>\n",
              "      <td>0.000</td>\n",
              "      <td>0.000</td>\n",
              "      <td>0.000</td>\n",
              "      <td>1.147</td>\n",
              "      <td>5</td>\n",
              "      <td>78</td>\n",
              "      <td>0</td>\n",
              "    </tr>\n",
              "    <tr>\n",
              "      <th>4600</th>\n",
              "      <td>0.00</td>\n",
              "      <td>0.00</td>\n",
              "      <td>0.65</td>\n",
              "      <td>0.0</td>\n",
              "      <td>0.00</td>\n",
              "      <td>0.00</td>\n",
              "      <td>0.00</td>\n",
              "      <td>0.00</td>\n",
              "      <td>0.00</td>\n",
              "      <td>0.00</td>\n",
              "      <td>...</td>\n",
              "      <td>0.000</td>\n",
              "      <td>0.000</td>\n",
              "      <td>0.0</td>\n",
              "      <td>0.125</td>\n",
              "      <td>0.000</td>\n",
              "      <td>0.000</td>\n",
              "      <td>1.250</td>\n",
              "      <td>5</td>\n",
              "      <td>40</td>\n",
              "      <td>0</td>\n",
              "    </tr>\n",
              "  </tbody>\n",
              "</table>\n",
              "<p>4601 rows × 58 columns</p>\n",
              "</div>\n",
              "      <button class=\"colab-df-convert\" onclick=\"convertToInteractive('df-7c869d0b-6e05-4a27-ad44-ca4aa9b4d527')\"\n",
              "              title=\"Convert this dataframe to an interactive table.\"\n",
              "              style=\"display:none;\">\n",
              "        \n",
              "  <svg xmlns=\"http://www.w3.org/2000/svg\" height=\"24px\"viewBox=\"0 0 24 24\"\n",
              "       width=\"24px\">\n",
              "    <path d=\"M0 0h24v24H0V0z\" fill=\"none\"/>\n",
              "    <path d=\"M18.56 5.44l.94 2.06.94-2.06 2.06-.94-2.06-.94-.94-2.06-.94 2.06-2.06.94zm-11 1L8.5 8.5l.94-2.06 2.06-.94-2.06-.94L8.5 2.5l-.94 2.06-2.06.94zm10 10l.94 2.06.94-2.06 2.06-.94-2.06-.94-.94-2.06-.94 2.06-2.06.94z\"/><path d=\"M17.41 7.96l-1.37-1.37c-.4-.4-.92-.59-1.43-.59-.52 0-1.04.2-1.43.59L10.3 9.45l-7.72 7.72c-.78.78-.78 2.05 0 2.83L4 21.41c.39.39.9.59 1.41.59.51 0 1.02-.2 1.41-.59l7.78-7.78 2.81-2.81c.8-.78.8-2.07 0-2.86zM5.41 20L4 18.59l7.72-7.72 1.47 1.35L5.41 20z\"/>\n",
              "  </svg>\n",
              "      </button>\n",
              "      \n",
              "  <style>\n",
              "    .colab-df-container {\n",
              "      display:flex;\n",
              "      flex-wrap:wrap;\n",
              "      gap: 12px;\n",
              "    }\n",
              "\n",
              "    .colab-df-convert {\n",
              "      background-color: #E8F0FE;\n",
              "      border: none;\n",
              "      border-radius: 50%;\n",
              "      cursor: pointer;\n",
              "      display: none;\n",
              "      fill: #1967D2;\n",
              "      height: 32px;\n",
              "      padding: 0 0 0 0;\n",
              "      width: 32px;\n",
              "    }\n",
              "\n",
              "    .colab-df-convert:hover {\n",
              "      background-color: #E2EBFA;\n",
              "      box-shadow: 0px 1px 2px rgba(60, 64, 67, 0.3), 0px 1px 3px 1px rgba(60, 64, 67, 0.15);\n",
              "      fill: #174EA6;\n",
              "    }\n",
              "\n",
              "    [theme=dark] .colab-df-convert {\n",
              "      background-color: #3B4455;\n",
              "      fill: #D2E3FC;\n",
              "    }\n",
              "\n",
              "    [theme=dark] .colab-df-convert:hover {\n",
              "      background-color: #434B5C;\n",
              "      box-shadow: 0px 1px 3px 1px rgba(0, 0, 0, 0.15);\n",
              "      filter: drop-shadow(0px 1px 2px rgba(0, 0, 0, 0.3));\n",
              "      fill: #FFFFFF;\n",
              "    }\n",
              "  </style>\n",
              "\n",
              "      <script>\n",
              "        const buttonEl =\n",
              "          document.querySelector('#df-7c869d0b-6e05-4a27-ad44-ca4aa9b4d527 button.colab-df-convert');\n",
              "        buttonEl.style.display =\n",
              "          google.colab.kernel.accessAllowed ? 'block' : 'none';\n",
              "\n",
              "        async function convertToInteractive(key) {\n",
              "          const element = document.querySelector('#df-7c869d0b-6e05-4a27-ad44-ca4aa9b4d527');\n",
              "          const dataTable =\n",
              "            await google.colab.kernel.invokeFunction('convertToInteractive',\n",
              "                                                     [key], {});\n",
              "          if (!dataTable) return;\n",
              "\n",
              "          const docLinkHtml = 'Like what you see? Visit the ' +\n",
              "            '<a target=\"_blank\" href=https://colab.research.google.com/notebooks/data_table.ipynb>data table notebook</a>'\n",
              "            + ' to learn more about interactive tables.';\n",
              "          element.innerHTML = '';\n",
              "          dataTable['output_type'] = 'display_data';\n",
              "          await google.colab.output.renderOutput(dataTable, element);\n",
              "          const docLink = document.createElement('div');\n",
              "          docLink.innerHTML = docLinkHtml;\n",
              "          element.appendChild(docLink);\n",
              "        }\n",
              "      </script>\n",
              "    </div>\n",
              "  </div>\n",
              "  "
            ]
          },
          "metadata": {},
          "execution_count": 22
        }
      ]
    },
    {
      "cell_type": "code",
      "source": [
        "# Calculate the index at which to split the dataset\n",
        "split_index = int(0.8 * len(data))\n",
        "\n",
        "# Split the dataset into training and test data\n",
        "training_data = data[:split_index]\n",
        "test_data = data[split_index:]"
      ],
      "metadata": {
        "id": "XWzPMj6G4D_r"
      },
      "execution_count": null,
      "outputs": []
    },
    {
      "cell_type": "code",
      "source": [
        "# Splitting training_data into x_train and y_train\n",
        "x_training = training_data.iloc[:, :-1]  # Select all columns except the last one as input features\n",
        "y_training = training_data.iloc[:, -1]   # Select the last column as the label\n",
        "\n",
        "# Splitting test_data into x_test and y_test\n",
        "x_testing = test_data.iloc[:, :-1]    # Select all columns except the last one as input features\n",
        "y_testing = test_data.iloc[:, -1]     # Select the last column as the label"
      ],
      "metadata": {
        "id": "IFujzNGZ4Gk7"
      },
      "execution_count": null,
      "outputs": []
    },
    {
      "cell_type": "code",
      "source": [
        "gnb = GaussianNB()\n",
        "mnb = MultinomialNB()\n",
        "\n",
        "\n",
        "gnb.fit(x_training, y_training)\n",
        "mnb.fit(x_training, y_training)\n",
        "\n",
        "\n",
        "gnb_predictions = gnb.predict(x_testing)\n",
        "mnb_predictions = mnb.predict(x_testing)\n",
        "\n",
        "\n",
        "gnb_accuracy = accuracy_score(y_testing, gnb_predictions)\n",
        "mnb_accuracy = accuracy_score(y_testing, mnb_predictions)\n",
        "\n",
        "\n",
        "print(\"Gaussian Naïve Bayes Accuracy:\", gnb_accuracy)\n",
        "print(\"Multinomial Naïve Bayes Accuracy:\", mnb_accuracy)\n"
      ],
      "metadata": {
        "colab": {
          "base_uri": "https://localhost:8080/"
        },
        "id": "8qilXuPr4JJT",
        "outputId": "c205e68a-593b-4b76-a65f-2465379298f5"
      },
      "execution_count": null,
      "outputs": [
        {
          "output_type": "stream",
          "name": "stdout",
          "text": [
            "Gaussian Naïve Bayes Accuracy: 0.6178067318132465\n",
            "Multinomial Naïve Bayes Accuracy: 0.7231270358306189\n"
          ]
        }
      ]
    },
    {
      "cell_type": "code",
      "source": [
        "# Calculate confusion matrices\n",
        "gnb_confusion_matrix = confusion_matrix(y_testing, gnb_predictions)\n",
        "mnb_confusion_matrix = confusion_matrix(y_testing, mnb_predictions)\n",
        "\n",
        "\n",
        "# Plot confusion matrices\n",
        "plt.figure(figsize=(10, 4))\n",
        "\n",
        "plt.subplot(1, 3, 1)\n",
        "sns.heatmap(gnb_confusion_matrix, annot=True, cmap=\"RdPu\", fmt=\"d\", cbar=False)\n",
        "plt.title(\"Gaussian Naïve Bayes Confusion Matrix \")\n",
        "plt.xlabel(\"Predicted\")\n",
        "plt.ylabel(\"True\")\n",
        "\n",
        "plt.subplot(1, 3, 3)\n",
        "sns.heatmap(mnb_confusion_matrix, annot=True, cmap=\"RdPu\", fmt=\"d\", cbar=False)\n",
        "plt.title(\" Multinomial Naïve Bayes Confusion Matrix \")\n",
        "plt.xlabel(\"Predicted\")\n",
        "plt.ylabel(\"True\")\n",
        "\n",
        "\n",
        "\n",
        "plt.tight_layout()\n",
        "plt.show()"
      ],
      "metadata": {
        "colab": {
          "base_uri": "https://localhost:8080/",
          "height": 407
        },
        "id": "25Kh6PTp4Lt7",
        "outputId": "597ae1cf-c32f-490e-9d7b-9b8620bd0744"
      },
      "execution_count": null,
      "outputs": [
        {
          "output_type": "display_data",
          "data": {
            "text/plain": [
              "<Figure size 1000x400 with 2 Axes>"
            ],
            "image/png": "[encoded data removed]"
          },
          "metadata": {}
        }
      ]
    },
    {
      "cell_type": "code",
      "source": [
        "\n",
        "y = data[57]\n",
        "x = data.drop(columns=[57])\n",
        "X_train, X_test, y_train, y_test = train_test_split(x,y, test_size=0.2,random_state=42)"
      ],
      "metadata": {
        "id": "Qi-XPGlB4PQj"
      },
      "execution_count": null,
      "outputs": []
    },
    {
      "cell_type": "code",
      "source": [
        "# Define a function to plot confusion matrices\n",
        "def plot_confusion_matrix(confusion_matrix, title):\n",
        "    plt.figure(figsize=(6, 6))\n",
        "    sns.heatmap(confusion_matrix, annot=True, fmt=\"d\", cmap=\"RdPu\")\n",
        "    plt.title(title)\n",
        "    plt.xlabel('Predicted label')\n",
        "    plt.ylabel('True label')\n",
        "    plt.show()"
      ],
      "metadata": {
        "id": "HVNlcVMB4ea5"
      },
      "execution_count": null,
      "outputs": []
    },
    {
      "cell_type": "code",
      "source": [
        "#Gaussian Naive Bayes Classifiers\n",
        "\n",
        "#fit the model\n",
        "gus=GaussianNB()\n",
        "gus.fit(X_train,y_train)\n",
        "\n",
        "#test confusion matrix\n",
        "yg_test_Pred=gus.predict(X_test)\n",
        "testg_confusion_matrix = confusion_matrix(y_test,yg_test_Pred)\n",
        "\n",
        "#test accuracy\n",
        "testg_score=accuracy_score(y_test,yg_test_Pred)\n",
        "\n",
        "#print test accuracy and confusion matrix\n",
        "print(\"Test confusion matrix:\\n\",testg_confusion_matrix)\n",
        "print(\"Gaussian Naive Bayes Classifiers test acc_sco\\n\",testg_score)\n",
        "\n",
        "#calculate precision & recall & score\n",
        "precision_gus = precision_score(y_test, yg_test_Pred)\n",
        "recall_gus = recall_score(y_test, yg_test_Pred)\n",
        "f1_score_gus = f1_score(y_test, yg_test_Pred)\n",
        "print(\"precision of Gaussian Naive Bayes Classifiers\\n\",precision_gus)\n",
        "print(\"recall of Gaussian Naive Bayes Classifiers\\n\",recall_gus)\n",
        "print(\"f1_score of Gaussian Naive Bayes Classifiers\\n\",f1_score_gus)\n",
        "\n",
        "#classification report\n",
        "reportg=classification_report(y_test, yg_test_Pred)\n",
        "print(reportg)\n",
        "\n",
        "#ConfusionMatrixDisplay\n",
        "plot_confusion_matrix(testg_confusion_matrix,'Gaussian confusion matrix test')"
      ],
      "metadata": {
        "colab": {
          "base_uri": "https://localhost:8080/",
          "height": 911
        },
        "id": "gegVN4FE4j7U",
        "outputId": "0adcc867-00c3-4ead-a9b0-9817ac266cac"
      },
      "execution_count": null,
      "outputs": [
        {
          "output_type": "stream",
          "name": "stdout",
          "text": [
            "Test confusion matrix:\n",
            " [[387 144]\n",
            " [ 21 369]]\n",
            "Gaussian Naive Bayes Classifiers test acc_sco\n",
            " 0.8208469055374593\n",
            "precision of Gaussian Naive Bayes Classifiers\n",
            " 0.7192982456140351\n",
            "recall of Gaussian Naive Bayes Classifiers\n",
            " 0.9461538461538461\n",
            "f1_score of Gaussian Naive Bayes Classifiers\n",
            " 0.8172757475083057\n",
            "              precision    recall  f1-score   support\n",
            "\n",
            "           0       0.95      0.73      0.82       531\n",
            "           1       0.72      0.95      0.82       390\n",
            "\n",
            "    accuracy                           0.82       921\n",
            "   macro avg       0.83      0.84      0.82       921\n",
            "weighted avg       0.85      0.82      0.82       921\n",
            "\n"
          ]
        },
        {
          "output_type": "display_data",
          "data": {
            "text/plain": [
              "<Figure size 600x600 with 2 Axes>"
            ],
            "image/png": "[encoded data removed]"
          },
          "metadata": {}
        }
      ]
    },
    {
      "cell_type": "code",
      "source": [
        "#Multinomial Naive Bayes Classifiers\n",
        "#fit the model\n",
        "mult=MultinomialNB()\n",
        "mult.fit(X_train,y_train)\n",
        "\n",
        "#test confusion matrix\n",
        "ym_test_Pred=mult.predict(X_test)\n",
        "testm_confusion_matrix = confusion_matrix(y_test,ym_test_Pred)\n",
        "\n",
        "#test accuracy\n",
        "testm_score=accuracy_score(y_test,ym_test_Pred)\n",
        "\n",
        "#print test accuracy and confusion matrix\n",
        "print(\"Test confusion matrix:\\n\",testm_confusion_matrix)\n",
        "print(\"Multinomial Naive Bayes Classifiers test acc_sco:\\n\",testm_score)\n",
        "\n",
        "#calculate precision & recall & score\n",
        "precision_mult = precision_score(y_test, ym_test_Pred)\n",
        "recall_mult = recall_score(y_test, ym_test_Pred)\n",
        "f1_score_mult = f1_score(y_test, ym_test_Pred)\n",
        "print(\"precision of Multinomial Naive Bayes Classifiers\\n\",precision_mult)\n",
        "print(\"recall of Multinomial Naive Bayes Classifiers\\n\",recall_mult)\n",
        "print(\"f1_score of Multinomial Naive Bayes Classifiers\\n\",f1_score_mult)\n",
        "\n",
        "#classification report\n",
        "reportm=classification_report(y_test, ym_test_Pred)\n",
        "print(reportm)\n",
        "#ConfusionMatrixDisplay\n",
        "plot_confusion_matrix(testm_confusion_matrix,'Multinomial confusion matrix test')"
      ],
      "metadata": {
        "colab": {
          "base_uri": "https://localhost:8080/",
          "height": 911
        },
        "id": "iH4jaqHe5Ic0",
        "outputId": "df58ff92-b147-4b59-cc5a-eb91cf9630d5"
      },
      "execution_count": null,
      "outputs": [
        {
          "output_type": "stream",
          "name": "stdout",
          "text": [
            "Test confusion matrix:\n",
            " [[445  86]\n",
            " [111 279]]\n",
            "Multinomial Naive Bayes Classifiers test acc_sco:\n",
            " 0.7861020629750272\n",
            "precision of Multinomial Naive Bayes Classifiers\n",
            " 0.7643835616438356\n",
            "recall of Multinomial Naive Bayes Classifiers\n",
            " 0.7153846153846154\n",
            "f1_score of Multinomial Naive Bayes Classifiers\n",
            " 0.7390728476821192\n",
            "              precision    recall  f1-score   support\n",
            "\n",
            "           0       0.80      0.84      0.82       531\n",
            "           1       0.76      0.72      0.74       390\n",
            "\n",
            "    accuracy                           0.79       921\n",
            "   macro avg       0.78      0.78      0.78       921\n",
            "weighted avg       0.79      0.79      0.79       921\n",
            "\n"
          ]
        },
        {
          "output_type": "display_data",
          "data": {
            "text/plain": [
              "<Figure size 600x600 with 2 Axes>"
            ],
            "image/png": "[encoded data removed]"
          },
          "metadata": {}
        }
      ]
    },
    {
      "cell_type": "code",
      "source": [
        "#Bernoulli Naive Bayes Classifiers\n",
        "#The selected model is Bernoulli Naive Bayes Classifiers\n",
        "ber=BernoulliNB()\n",
        "ber.fit(X_train,y_train)\n",
        "\n",
        "#test confusion matrix\n",
        "yb_test_Pred=ber.predict(X_test)\n",
        "testb_confusion_matrix = confusion_matrix(y_test,yb_test_Pred)\n",
        "\n",
        "#test accuracy\n",
        "testb_score=accuracy_score(y_test,yb_test_Pred)\n",
        "\n",
        "#print test accuracy and confusion matrix\n",
        "print(\"Test confusion matrix:\\n\",testb_confusion_matrix)\n",
        "print(\"Bernoulli Naive Bayes Classifiers test acc_sco\\n\",testb_score)\n",
        "\n",
        "#calculate precision & recall & score\n",
        "precision_ber = precision_score(y_test, yb_test_Pred)\n",
        "recall_ber = recall_score(y_test, yb_test_Pred)\n",
        "f1_score_ber = f1_score(y_test, yb_test_Pred)\n",
        "print(\"precision of Bernoulli Naive Bayes Classifiers\\n\",precision_ber)\n",
        "print(\"recall of Bernoulli Naive Bayes Classifiers\\n\",recall_ber)\n",
        "print(\"f1_score of Bernoulli Naive Bayes Classifiers\\n\",f1_score_ber)\n",
        "\n",
        "#classification report\n",
        "reportb=classification_report(y_test, yb_test_Pred)\n",
        "print(reportb)\n",
        "#ConfusionMatrixDisplay\n",
        "plot_confusion_matrix(testb_confusion_matrix,'Bernoulli confusion matrix test')"
      ],
      "metadata": {
        "colab": {
          "base_uri": "https://localhost:8080/",
          "height": 911
        },
        "id": "qvi8kDhq5Rn0",
        "outputId": "ae626435-7ea4-473b-88a5-6aaa42372fbf"
      },
      "execution_count": null,
      "outputs": [
        {
          "output_type": "stream",
          "name": "stdout",
          "text": [
            "Test confusion matrix:\n",
            " [[499  32]\n",
            " [ 78 312]]\n",
            "Bernoulli Naive Bayes Classifiers test acc_sco\n",
            " 0.8805646036916395\n",
            "precision of Bernoulli Naive Bayes Classifiers\n",
            " 0.9069767441860465\n",
            "recall of Bernoulli Naive Bayes Classifiers\n",
            " 0.8\n",
            "f1_score of Bernoulli Naive Bayes Classifiers\n",
            " 0.8501362397820164\n",
            "              precision    recall  f1-score   support\n",
            "\n",
            "           0       0.86      0.94      0.90       531\n",
            "           1       0.91      0.80      0.85       390\n",
            "\n",
            "    accuracy                           0.88       921\n",
            "   macro avg       0.89      0.87      0.88       921\n",
            "weighted avg       0.88      0.88      0.88       921\n",
            "\n"
          ]
        },
        {
          "output_type": "display_data",
          "data": {
            "text/plain": [
              "<Figure size 600x600 with 2 Axes>"
            ],
            "image/png": "[encoded data removed]"
          },
          "metadata": {}
        }
      ]
    },
    {
      "cell_type": "markdown",
      "source": [
        "##  The Bernoulli Naive Bayes classifier achieved the highest test accuracy score, followed by the Gaussian Naive Bayes classifier and then the Multinomial Naive Bayes classifier. This suggests that the data may be better represented as binary features, and the presence or absence of certain features may have more discriminatory power for classification than considering their frequencies or assuming a Gaussian distribution.\n"
      ],
      "metadata": {
        "id": "8CkSmptO3f3B"
      }
    },
    {
      "cell_type": "code",
      "source": [
        "#splitting the data into four parts\n",
        "subset_size = split_index // 4\n",
        "\n",
        "subset_1_X = x_training[:subset_size]\n",
        "subset_1_y = y_training[:subset_size]\n",
        "\n",
        "subset_2_X = x_training[subset_size:2 * subset_size]\n",
        "subset_2_y = y_training[subset_size:2 * subset_size]\n",
        "\n",
        "subset_3_X = x_training[2 * subset_size:3 * subset_size]\n",
        "subset_3_y = y_training[2 * subset_size:3 * subset_size]\n",
        "\n",
        "subset_4_X = x_training[3 * subset_size:split_index]\n",
        "subset_4_y = y_training[3 * subset_size:split_index]"
      ],
      "metadata": {
        "id": "FsHbS2dl5jpz"
      },
      "execution_count": null,
      "outputs": []
    },
    {
      "cell_type": "code",
      "source": [
        "# Train BernoulliNB on subset 1\n",
        "ber_subset_1 = BernoulliNB()\n",
        "ber_subset_1.fit(subset_1_X, subset_1_y)\n",
        "subset_1_accuracy = ber_subset_1.score(x_testing, y_testing)\n",
        "\n",
        "\n",
        "# Train BernoulliNB on subset 2\n",
        "ber_subset_2 = BernoulliNB()\n",
        "ber_subset_2.fit(subset_2_X, subset_2_y)\n",
        "subset_2_accuracy = ber_subset_2.score(x_testing, y_testing)\n",
        "\n",
        "\n",
        "# Train BernoulliNB on subset 3\n",
        "ber_subset_3 = BernoulliNB()\n",
        "ber_subset_3.fit(subset_3_X, subset_3_y)\n",
        "subset_3_accuracy = ber_subset_3.score(x_testing, y_testing)\n",
        "\n",
        "\n",
        "# Train BernoulliNB on subset 4\n",
        "ber_subset_4 = BernoulliNB()\n",
        "ber_subset_4.fit(subset_4_X, subset_4_y)\n",
        "subset_4_accuracy = ber_subset_4.score(x_testing, y_testing)\n",
        "\n",
        "print(\"Subset 1 Accuracy Score:\", subset_1_accuracy)\n",
        "print(\"Subset 2 Accuracy Score:\", subset_2_accuracy)\n",
        "print(\"Subset 3 Accuracy Score:\", subset_3_accuracy)\n",
        "print(\"Subset 4 Accuracy Score:\", subset_4_accuracy)"
      ],
      "metadata": {
        "colab": {
          "base_uri": "https://localhost:8080/"
        },
        "id": "1mOUKXL26hRb",
        "outputId": "2ebf06e3-2de6-436b-80a0-9f612178b617"
      },
      "execution_count": null,
      "outputs": [
        {
          "output_type": "stream",
          "name": "stdout",
          "text": [
            "Subset 1 Accuracy Score: 0.0\n",
            "Subset 2 Accuracy Score: 0.6438653637350705\n",
            "Subset 3 Accuracy Score: 1.0\n",
            "Subset 4 Accuracy Score: 1.0\n"
          ]
        }
      ]
    },
    {
      "cell_type": "code",
      "source": [
        "subset_accuracy_scores = [subset_1_accuracy, subset_2_accuracy, subset_3_accuracy, subset_4_accuracy]\n",
        "subset_labels = [\"Subset 1\", \"Subset 2\", \"Subset 3\", \"Subset 4\"]\n",
        "colors = ['pink','purple','silver']\n",
        "color_map = plt.cm.colors.ListedColormap(colors)\n",
        "\n",
        "# Plot bar chart\n",
        "plt.bar(subset_labels, subset_accuracy_scores,color=colors)\n",
        "plt.title(\"Accuracy Scores of Subsets\")\n",
        "plt.xlabel(\"Subsets\")\n",
        "plt.ylabel(\"Accuracy Score\")\n",
        "\n",
        "\n",
        "\n",
        "for i, score in enumerate(subset_accuracy_scores):\n",
        "    plt.text(i, score, str(round(score, 2)), ha='center', va='bottom')\n",
        "\n",
        "\n",
        "plt.show()"
      ],
      "metadata": {
        "colab": {
          "base_uri": "https://localhost:8080/",
          "height": 472
        },
        "id": "bLXP03vp6k73",
        "outputId": "70197d4b-5b70-4560-b107-95893a9cf360"
      },
      "execution_count": null,
      "outputs": [
        {
          "output_type": "display_data",
          "data": {
            "text/plain": [
              "<Figure size 640x480 with 1 Axes>"
            ],
            "image/png": "[encoded data removed]"
          },
          "metadata": {}
        }
      ]
    },
    {
      "cell_type": "markdown",
      "source": [
        "# **Subsets 3 and 4 appear to contain more representative and discriminative characteristics, which improves classification accuracy. In order to boost Subset 1's classification performance, more research and perhaps even more characteristics may be required. 🤔**"
      ],
      "metadata": {
        "id": "ARrj5x4k68Pc"
      }
    }
  ]
}